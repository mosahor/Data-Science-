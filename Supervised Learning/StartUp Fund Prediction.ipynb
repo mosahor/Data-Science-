{
 "cells": [
  {
   "cell_type": "markdown",
   "id": "7703364a",
   "metadata": {},
   "source": [
    "# Predictive Modeling"
   ]
  },
  {
   "cell_type": "markdown",
   "id": "9c597d3b",
   "metadata": {},
   "source": [
    "### Objective\n",
    "In this project, I am going to create a predictive model that will help start up companies predict how much funding they will get based on the funding round and company's valuation. This will give them more confidence and save them cosulting expenses on deciding the amount of money they will get from investors. \n",
    "The data is from kaggle and originally published by Crunchbase. Informations found in this dataset are dated up to 2013. "
   ]
  },
  {
   "cell_type": "code",
   "execution_count": 1,
   "id": "59dbf3d7",
   "metadata": {},
   "outputs": [],
   "source": [
    "# importing libraries\n",
    "\n",
    "import numpy as np\n",
    "import pandas as pd\n",
    "from matplotlib import pyplot as plt\n",
    "import seaborn as sns\n",
    "import warnings\n",
    "warnings.filterwarnings(\"ignore\")\n"
   ]
  },
  {
   "cell_type": "markdown",
   "id": "4ee6b2b1",
   "metadata": {},
   "source": [
    "## Loading Data"
   ]
  },
  {
   "cell_type": "code",
   "execution_count": 2,
   "id": "bf0027e5",
   "metadata": {
    "scrolled": true
   },
   "outputs": [
    {
     "data": {
      "text/html": [
       "<div>\n",
       "<style scoped>\n",
       "    .dataframe tbody tr th:only-of-type {\n",
       "        vertical-align: middle;\n",
       "    }\n",
       "\n",
       "    .dataframe tbody tr th {\n",
       "        vertical-align: top;\n",
       "    }\n",
       "\n",
       "    .dataframe thead th {\n",
       "        text-align: right;\n",
       "    }\n",
       "</style>\n",
       "<table border=\"1\" class=\"dataframe\">\n",
       "  <thead>\n",
       "    <tr style=\"text-align: right;\">\n",
       "      <th></th>\n",
       "      <th>id</th>\n",
       "      <th>funding_round_id</th>\n",
       "      <th>object_id</th>\n",
       "      <th>funded_at</th>\n",
       "      <th>funding_round_type</th>\n",
       "      <th>funding_round_code</th>\n",
       "      <th>raised_amount_usd</th>\n",
       "      <th>raised_amount</th>\n",
       "      <th>raised_currency_code</th>\n",
       "      <th>pre_money_valuation_usd</th>\n",
       "      <th>...</th>\n",
       "      <th>post_money_valuation</th>\n",
       "      <th>post_money_currency_code</th>\n",
       "      <th>participants</th>\n",
       "      <th>is_first_round</th>\n",
       "      <th>is_last_round</th>\n",
       "      <th>source_url</th>\n",
       "      <th>source_description</th>\n",
       "      <th>created_by</th>\n",
       "      <th>created_at</th>\n",
       "      <th>updated_at</th>\n",
       "    </tr>\n",
       "  </thead>\n",
       "  <tbody>\n",
       "    <tr>\n",
       "      <th>0</th>\n",
       "      <td>1</td>\n",
       "      <td>1</td>\n",
       "      <td>c:4</td>\n",
       "      <td>2006-12-01</td>\n",
       "      <td>series-b</td>\n",
       "      <td>b</td>\n",
       "      <td>8500000.0</td>\n",
       "      <td>8500000.0</td>\n",
       "      <td>USD</td>\n",
       "      <td>0.0</td>\n",
       "      <td>...</td>\n",
       "      <td>0.0</td>\n",
       "      <td>NaN</td>\n",
       "      <td>2</td>\n",
       "      <td>0</td>\n",
       "      <td>0</td>\n",
       "      <td>http://www.marketingvox.com/archives/2006/12/2...</td>\n",
       "      <td>NaN</td>\n",
       "      <td>initial-importer</td>\n",
       "      <td>2007-07-04 04:52:57</td>\n",
       "      <td>2008-02-27 23:14:29</td>\n",
       "    </tr>\n",
       "    <tr>\n",
       "      <th>1</th>\n",
       "      <td>2</td>\n",
       "      <td>2</td>\n",
       "      <td>c:5</td>\n",
       "      <td>2004-09-01</td>\n",
       "      <td>angel</td>\n",
       "      <td>angel</td>\n",
       "      <td>500000.0</td>\n",
       "      <td>500000.0</td>\n",
       "      <td>USD</td>\n",
       "      <td>0.0</td>\n",
       "      <td>...</td>\n",
       "      <td>0.0</td>\n",
       "      <td>USD</td>\n",
       "      <td>2</td>\n",
       "      <td>0</td>\n",
       "      <td>1</td>\n",
       "      <td>NaN</td>\n",
       "      <td>NaN</td>\n",
       "      <td>initial-importer</td>\n",
       "      <td>2007-05-27 06:08:18</td>\n",
       "      <td>2013-06-28 20:07:23</td>\n",
       "    </tr>\n",
       "    <tr>\n",
       "      <th>2</th>\n",
       "      <td>3</td>\n",
       "      <td>3</td>\n",
       "      <td>c:5</td>\n",
       "      <td>2005-05-01</td>\n",
       "      <td>series-a</td>\n",
       "      <td>a</td>\n",
       "      <td>12700000.0</td>\n",
       "      <td>12700000.0</td>\n",
       "      <td>USD</td>\n",
       "      <td>115000000.0</td>\n",
       "      <td>...</td>\n",
       "      <td>0.0</td>\n",
       "      <td>USD</td>\n",
       "      <td>3</td>\n",
       "      <td>0</td>\n",
       "      <td>0</td>\n",
       "      <td>http://www.techcrunch.com/2007/11/02/jim-breye...</td>\n",
       "      <td>Jim Breyer: Extra $500 Million Round For Faceb...</td>\n",
       "      <td>initial-importer</td>\n",
       "      <td>2007-05-27 06:09:10</td>\n",
       "      <td>2013-06-28 20:07:23</td>\n",
       "    </tr>\n",
       "    <tr>\n",
       "      <th>3</th>\n",
       "      <td>4</td>\n",
       "      <td>4</td>\n",
       "      <td>c:5</td>\n",
       "      <td>2006-04-01</td>\n",
       "      <td>series-b</td>\n",
       "      <td>b</td>\n",
       "      <td>27500000.0</td>\n",
       "      <td>27500000.0</td>\n",
       "      <td>USD</td>\n",
       "      <td>525000000.0</td>\n",
       "      <td>...</td>\n",
       "      <td>0.0</td>\n",
       "      <td>USD</td>\n",
       "      <td>4</td>\n",
       "      <td>0</td>\n",
       "      <td>0</td>\n",
       "      <td>http://www.facebook.com/press/info.php?factsheet</td>\n",
       "      <td>Facebook Funding</td>\n",
       "      <td>initial-importer</td>\n",
       "      <td>2007-05-27 06:09:36</td>\n",
       "      <td>2013-06-28 20:07:24</td>\n",
       "    </tr>\n",
       "    <tr>\n",
       "      <th>4</th>\n",
       "      <td>5</td>\n",
       "      <td>5</td>\n",
       "      <td>c:7299</td>\n",
       "      <td>2006-05-01</td>\n",
       "      <td>series-b</td>\n",
       "      <td>b</td>\n",
       "      <td>10500000.0</td>\n",
       "      <td>10500000.0</td>\n",
       "      <td>USD</td>\n",
       "      <td>0.0</td>\n",
       "      <td>...</td>\n",
       "      <td>0.0</td>\n",
       "      <td>NaN</td>\n",
       "      <td>2</td>\n",
       "      <td>0</td>\n",
       "      <td>0</td>\n",
       "      <td>http://www.techcrunch.com/2006/05/14/photobuck...</td>\n",
       "      <td>PhotoBucket Closes $10.5M From Trinity Ventures</td>\n",
       "      <td>initial-importer</td>\n",
       "      <td>2007-05-29 11:05:59</td>\n",
       "      <td>2008-04-16 17:09:12</td>\n",
       "    </tr>\n",
       "  </tbody>\n",
       "</table>\n",
       "<p>5 rows × 23 columns</p>\n",
       "</div>"
      ],
      "text/plain": [
       "   id  funding_round_id object_id   funded_at funding_round_type  \\\n",
       "0   1                 1       c:4  2006-12-01           series-b   \n",
       "1   2                 2       c:5  2004-09-01              angel   \n",
       "2   3                 3       c:5  2005-05-01           series-a   \n",
       "3   4                 4       c:5  2006-04-01           series-b   \n",
       "4   5                 5    c:7299  2006-05-01           series-b   \n",
       "\n",
       "  funding_round_code  raised_amount_usd  raised_amount raised_currency_code  \\\n",
       "0                  b          8500000.0      8500000.0                  USD   \n",
       "1              angel           500000.0       500000.0                  USD   \n",
       "2                  a         12700000.0     12700000.0                  USD   \n",
       "3                  b         27500000.0     27500000.0                  USD   \n",
       "4                  b         10500000.0     10500000.0                  USD   \n",
       "\n",
       "   pre_money_valuation_usd  ...  post_money_valuation  \\\n",
       "0                      0.0  ...                   0.0   \n",
       "1                      0.0  ...                   0.0   \n",
       "2              115000000.0  ...                   0.0   \n",
       "3              525000000.0  ...                   0.0   \n",
       "4                      0.0  ...                   0.0   \n",
       "\n",
       "  post_money_currency_code  participants  is_first_round is_last_round  \\\n",
       "0                      NaN             2               0             0   \n",
       "1                      USD             2               0             1   \n",
       "2                      USD             3               0             0   \n",
       "3                      USD             4               0             0   \n",
       "4                      NaN             2               0             0   \n",
       "\n",
       "                                          source_url  \\\n",
       "0  http://www.marketingvox.com/archives/2006/12/2...   \n",
       "1                                                NaN   \n",
       "2  http://www.techcrunch.com/2007/11/02/jim-breye...   \n",
       "3   http://www.facebook.com/press/info.php?factsheet   \n",
       "4  http://www.techcrunch.com/2006/05/14/photobuck...   \n",
       "\n",
       "                                  source_description        created_by  \\\n",
       "0                                                NaN  initial-importer   \n",
       "1                                                NaN  initial-importer   \n",
       "2  Jim Breyer: Extra $500 Million Round For Faceb...  initial-importer   \n",
       "3                                   Facebook Funding  initial-importer   \n",
       "4    PhotoBucket Closes $10.5M From Trinity Ventures  initial-importer   \n",
       "\n",
       "            created_at           updated_at  \n",
       "0  2007-07-04 04:52:57  2008-02-27 23:14:29  \n",
       "1  2007-05-27 06:08:18  2013-06-28 20:07:23  \n",
       "2  2007-05-27 06:09:10  2013-06-28 20:07:23  \n",
       "3  2007-05-27 06:09:36  2013-06-28 20:07:24  \n",
       "4  2007-05-29 11:05:59  2008-04-16 17:09:12  \n",
       "\n",
       "[5 rows x 23 columns]"
      ]
     },
     "execution_count": 2,
     "metadata": {},
     "output_type": "execute_result"
    }
   ],
   "source": [
    "# using pandas to read csv file from working directory\n",
    "\n",
    "data = pd.read_csv('funding_rounds.csv')\n",
    "data.head()"
   ]
  },
  {
   "cell_type": "markdown",
   "id": "5aa523c2",
   "metadata": {},
   "source": [
    "## Data Exploration and Cleaning"
   ]
  },
  {
   "cell_type": "code",
   "execution_count": 3,
   "id": "fb53335e",
   "metadata": {},
   "outputs": [
    {
     "data": {
      "text/html": [
       "<div>\n",
       "<style scoped>\n",
       "    .dataframe tbody tr th:only-of-type {\n",
       "        vertical-align: middle;\n",
       "    }\n",
       "\n",
       "    .dataframe tbody tr th {\n",
       "        vertical-align: top;\n",
       "    }\n",
       "\n",
       "    .dataframe thead th {\n",
       "        text-align: right;\n",
       "    }\n",
       "</style>\n",
       "<table border=\"1\" class=\"dataframe\">\n",
       "  <thead>\n",
       "    <tr style=\"text-align: right;\">\n",
       "      <th></th>\n",
       "      <th>is_first_round</th>\n",
       "      <th>funding_round_code</th>\n",
       "      <th>pre_money_valuation_usd</th>\n",
       "      <th>post_money_valuation_usd</th>\n",
       "      <th>raised_amount_usd</th>\n",
       "    </tr>\n",
       "  </thead>\n",
       "  <tbody>\n",
       "    <tr>\n",
       "      <th>0</th>\n",
       "      <td>0</td>\n",
       "      <td>b</td>\n",
       "      <td>0.0</td>\n",
       "      <td>0.0</td>\n",
       "      <td>8500000.0</td>\n",
       "    </tr>\n",
       "    <tr>\n",
       "      <th>1</th>\n",
       "      <td>0</td>\n",
       "      <td>angel</td>\n",
       "      <td>0.0</td>\n",
       "      <td>0.0</td>\n",
       "      <td>500000.0</td>\n",
       "    </tr>\n",
       "    <tr>\n",
       "      <th>2</th>\n",
       "      <td>0</td>\n",
       "      <td>a</td>\n",
       "      <td>115000000.0</td>\n",
       "      <td>0.0</td>\n",
       "      <td>12700000.0</td>\n",
       "    </tr>\n",
       "    <tr>\n",
       "      <th>3</th>\n",
       "      <td>0</td>\n",
       "      <td>b</td>\n",
       "      <td>525000000.0</td>\n",
       "      <td>0.0</td>\n",
       "      <td>27500000.0</td>\n",
       "    </tr>\n",
       "    <tr>\n",
       "      <th>4</th>\n",
       "      <td>0</td>\n",
       "      <td>b</td>\n",
       "      <td>0.0</td>\n",
       "      <td>0.0</td>\n",
       "      <td>10500000.0</td>\n",
       "    </tr>\n",
       "  </tbody>\n",
       "</table>\n",
       "</div>"
      ],
      "text/plain": [
       "   is_first_round funding_round_code  pre_money_valuation_usd  \\\n",
       "0               0                  b                      0.0   \n",
       "1               0              angel                      0.0   \n",
       "2               0                  a              115000000.0   \n",
       "3               0                  b              525000000.0   \n",
       "4               0                  b                      0.0   \n",
       "\n",
       "   post_money_valuation_usd  raised_amount_usd  \n",
       "0                       0.0          8500000.0  \n",
       "1                       0.0           500000.0  \n",
       "2                       0.0         12700000.0  \n",
       "3                       0.0         27500000.0  \n",
       "4                       0.0         10500000.0  "
      ]
     },
     "execution_count": 3,
     "metadata": {},
     "output_type": "execute_result"
    }
   ],
   "source": [
    "# Selecting features I want to work with\n",
    "\n",
    "data1 = data[['is_first_round',\n",
    "      'funding_round_code','pre_money_valuation_usd', \n",
    "      'post_money_valuation_usd','raised_amount_usd']]\n",
    "data1.head()"
   ]
  },
  {
   "cell_type": "code",
   "execution_count": 4,
   "id": "66fff44a",
   "metadata": {},
   "outputs": [
    {
     "data": {
      "text/plain": [
       "is_first_round              0\n",
       "funding_round_code          0\n",
       "pre_money_valuation_usd     0\n",
       "post_money_valuation_usd    0\n",
       "raised_amount_usd           0\n",
       "dtype: int64"
      ]
     },
     "execution_count": 4,
     "metadata": {},
     "output_type": "execute_result"
    }
   ],
   "source": [
    "# finding out features with null values\n",
    "\n",
    "data1.isnull().sum()"
   ]
  },
  {
   "cell_type": "code",
   "execution_count": 5,
   "id": "6f2ce50c",
   "metadata": {},
   "outputs": [
    {
     "data": {
      "text/plain": [
       "(52928, 5)"
      ]
     },
     "execution_count": 5,
     "metadata": {},
     "output_type": "execute_result"
    }
   ],
   "source": [
    "# number of rows and columns in the dataset\n",
    "data1.shape"
   ]
  },
  {
   "cell_type": "code",
   "execution_count": 6,
   "id": "aa1307f4",
   "metadata": {
    "scrolled": true
   },
   "outputs": [
    {
     "data": {
      "text/plain": [
       "funding_round_code\n",
       "a                    7999\n",
       "angel                3239\n",
       "b                    4892\n",
       "c                    2499\n",
       "convertible           187\n",
       "crowd                 111\n",
       "crowd_equity            3\n",
       "d                    1129\n",
       "debt_round           3409\n",
       "e                     430\n",
       "f                     145\n",
       "g                      13\n",
       "grant                 776\n",
       "partial              3115\n",
       "post_ipo_debt           7\n",
       "post_ipo_equity        80\n",
       "private_equity       1043\n",
       "secondary_market       16\n",
       "seed                11608\n",
       "unattributed        12227\n",
       "dtype: int64"
      ]
     },
     "execution_count": 6,
     "metadata": {},
     "output_type": "execute_result"
    }
   ],
   "source": [
    "# finding out different types of fund rounds and their counts\n",
    "\n",
    "data1.groupby('funding_round_code').size()"
   ]
  },
  {
   "cell_type": "markdown",
   "id": "b3cfdf85",
   "metadata": {},
   "source": [
    "I am interested in seed, a, b and c rounds since I am helping startups"
   ]
  },
  {
   "cell_type": "code",
   "execution_count": 7,
   "id": "2795f0a9",
   "metadata": {},
   "outputs": [
    {
     "data": {
      "text/plain": [
       "(26998, 5)"
      ]
     },
     "execution_count": 7,
     "metadata": {},
     "output_type": "execute_result"
    }
   ],
   "source": [
    "# Selecting rows with seed, a, b or c as the funding round code\n",
    "# viewing number of rows and columns left\n",
    "data2 = data1[data1.funding_round_code.isin(['c', 'b', 'a','seed']) == True]\n",
    "\n",
    "data2.shape"
   ]
  },
  {
   "cell_type": "code",
   "execution_count": 8,
   "id": "feef5ea3",
   "metadata": {},
   "outputs": [
    {
     "data": {
      "text/plain": [
       "funding_round_code\n",
       "a        7999\n",
       "b        4892\n",
       "c        2499\n",
       "seed    11608\n",
       "dtype: int64"
      ]
     },
     "execution_count": 8,
     "metadata": {},
     "output_type": "execute_result"
    }
   ],
   "source": [
    "# selected fund rounds and their respective counts\n",
    "data2.groupby('funding_round_code').size()"
   ]
  },
  {
   "cell_type": "code",
   "execution_count": 9,
   "id": "a88d84ec",
   "metadata": {
    "scrolled": true
   },
   "outputs": [
    {
     "data": {
      "image/png": "[encoded data removed]",
      "text/plain": [
       "<Figure size 720x360 with 1 Axes>"
      ]
     },
     "metadata": {
      "needs_background": "light"
     },
     "output_type": "display_data"
    }
   ],
   "source": [
    "# Using a plot to gain insight on the amounts each round raised\n",
    "\n",
    "plt.figure(figsize = (10,5))\n",
    "\n",
    "fund = data2['funding_round_code']\n",
    "amount = data2['raised_amount_usd']\n",
    "\n",
    "plt.scatter(fund, amount)\n",
    " \n",
    "plt.xlabel(\"Fund Type\", fontsize = 14)\n",
    "plt.ylabel(\"Amount Raised * 100 million\", fontsize = 14)\n",
    "plt.title(\"Amount raised by fund\", fontsize = 14)\n",
    "plt.show()"
   ]
  },
  {
   "cell_type": "markdown",
   "id": "9f3db024",
   "metadata": {},
   "source": [
    "We can see from the plot above that the seed round round has the least maximum raised amount which makes sense since it is the first round of funding a startup will have to go through"
   ]
  },
  {
   "cell_type": "code",
   "execution_count": 10,
   "id": "6618fa1e",
   "metadata": {
    "scrolled": true
   },
   "outputs": [
    {
     "data": {
      "text/html": [
       "<div>\n",
       "<style scoped>\n",
       "    .dataframe tbody tr th:only-of-type {\n",
       "        vertical-align: middle;\n",
       "    }\n",
       "\n",
       "    .dataframe tbody tr th {\n",
       "        vertical-align: top;\n",
       "    }\n",
       "\n",
       "    .dataframe thead th {\n",
       "        text-align: right;\n",
       "    }\n",
       "</style>\n",
       "<table border=\"1\" class=\"dataframe\">\n",
       "  <thead>\n",
       "    <tr style=\"text-align: right;\">\n",
       "      <th></th>\n",
       "      <th>funding_round_code</th>\n",
       "      <th>is_first_round</th>\n",
       "      <th>pre_money_valuation_usd</th>\n",
       "      <th>post_money_valuation_usd</th>\n",
       "      <th>raised_amount_usd</th>\n",
       "    </tr>\n",
       "  </thead>\n",
       "  <tbody>\n",
       "    <tr>\n",
       "      <th>0</th>\n",
       "      <td>a</td>\n",
       "      <td>0.52</td>\n",
       "      <td>26453.31</td>\n",
       "      <td>269998.82</td>\n",
       "      <td>6504186.58</td>\n",
       "    </tr>\n",
       "    <tr>\n",
       "      <th>1</th>\n",
       "      <td>b</td>\n",
       "      <td>0.50</td>\n",
       "      <td>221361.41</td>\n",
       "      <td>831845.89</td>\n",
       "      <td>11344490.29</td>\n",
       "    </tr>\n",
       "    <tr>\n",
       "      <th>2</th>\n",
       "      <td>c</td>\n",
       "      <td>0.48</td>\n",
       "      <td>6170468.19</td>\n",
       "      <td>4465586.33</td>\n",
       "      <td>17666920.19</td>\n",
       "    </tr>\n",
       "    <tr>\n",
       "      <th>3</th>\n",
       "      <td>seed</td>\n",
       "      <td>0.69</td>\n",
       "      <td>430.74</td>\n",
       "      <td>157257.43</td>\n",
       "      <td>671146.20</td>\n",
       "    </tr>\n",
       "  </tbody>\n",
       "</table>\n",
       "</div>"
      ],
      "text/plain": [
       "  funding_round_code  is_first_round  pre_money_valuation_usd  \\\n",
       "0                  a            0.52                 26453.31   \n",
       "1                  b            0.50                221361.41   \n",
       "2                  c            0.48               6170468.19   \n",
       "3               seed            0.69                   430.74   \n",
       "\n",
       "   post_money_valuation_usd  raised_amount_usd  \n",
       "0                 269998.82         6504186.58  \n",
       "1                 831845.89        11344490.29  \n",
       "2                4465586.33        17666920.19  \n",
       "3                 157257.43          671146.20  "
      ]
     },
     "execution_count": 10,
     "metadata": {},
     "output_type": "execute_result"
    }
   ],
   "source": [
    "# Let's see averages for each fund\n",
    "\n",
    "pd.options.display.float_format = '{:.2f}'.format\n",
    "\n",
    "avg_fund = data2.groupby('funding_round_code').mean().reset_index()\n",
    "avg_fund"
   ]
  },
  {
   "cell_type": "markdown",
   "id": "8e15004c",
   "metadata": {},
   "source": [
    "We can see from the table above that the seed round has has the lowest average post money valuation followed by round a, b, then c. That makes sense since the size of the company is expected to grow simultaneously with these rounds. "
   ]
  },
  {
   "cell_type": "code",
   "execution_count": 11,
   "id": "f7871537",
   "metadata": {},
   "outputs": [
    {
     "data": {
      "text/html": [
       "<div>\n",
       "<style scoped>\n",
       "    .dataframe tbody tr th:only-of-type {\n",
       "        vertical-align: middle;\n",
       "    }\n",
       "\n",
       "    .dataframe tbody tr th {\n",
       "        vertical-align: top;\n",
       "    }\n",
       "\n",
       "    .dataframe thead th {\n",
       "        text-align: right;\n",
       "    }\n",
       "</style>\n",
       "<table border=\"1\" class=\"dataframe\">\n",
       "  <thead>\n",
       "    <tr style=\"text-align: right;\">\n",
       "      <th></th>\n",
       "      <th>a</th>\n",
       "      <th>b</th>\n",
       "      <th>c</th>\n",
       "      <th>seed</th>\n",
       "    </tr>\n",
       "  </thead>\n",
       "  <tbody>\n",
       "    <tr>\n",
       "      <th>0</th>\n",
       "      <td>0</td>\n",
       "      <td>1</td>\n",
       "      <td>0</td>\n",
       "      <td>0</td>\n",
       "    </tr>\n",
       "    <tr>\n",
       "      <th>2</th>\n",
       "      <td>1</td>\n",
       "      <td>0</td>\n",
       "      <td>0</td>\n",
       "      <td>0</td>\n",
       "    </tr>\n",
       "    <tr>\n",
       "      <th>3</th>\n",
       "      <td>0</td>\n",
       "      <td>1</td>\n",
       "      <td>0</td>\n",
       "      <td>0</td>\n",
       "    </tr>\n",
       "    <tr>\n",
       "      <th>4</th>\n",
       "      <td>0</td>\n",
       "      <td>1</td>\n",
       "      <td>0</td>\n",
       "      <td>0</td>\n",
       "    </tr>\n",
       "    <tr>\n",
       "      <th>5</th>\n",
       "      <td>1</td>\n",
       "      <td>0</td>\n",
       "      <td>0</td>\n",
       "      <td>0</td>\n",
       "    </tr>\n",
       "  </tbody>\n",
       "</table>\n",
       "</div>"
      ],
      "text/plain": [
       "   a  b  c  seed\n",
       "0  0  1  0     0\n",
       "2  1  0  0     0\n",
       "3  0  1  0     0\n",
       "4  0  1  0     0\n",
       "5  1  0  0     0"
      ]
     },
     "execution_count": 11,
     "metadata": {},
     "output_type": "execute_result"
    }
   ],
   "source": [
    "# turning the funding round code feature in to numerical for predictions\n",
    "dummies = pd.get_dummies(data2.funding_round_code)\n",
    "\n",
    "dummies.head()"
   ]
  },
  {
   "cell_type": "code",
   "execution_count": 12,
   "id": "88577c5e",
   "metadata": {},
   "outputs": [
    {
     "data": {
      "text/html": [
       "<div>\n",
       "<style scoped>\n",
       "    .dataframe tbody tr th:only-of-type {\n",
       "        vertical-align: middle;\n",
       "    }\n",
       "\n",
       "    .dataframe tbody tr th {\n",
       "        vertical-align: top;\n",
       "    }\n",
       "\n",
       "    .dataframe thead th {\n",
       "        text-align: right;\n",
       "    }\n",
       "</style>\n",
       "<table border=\"1\" class=\"dataframe\">\n",
       "  <thead>\n",
       "    <tr style=\"text-align: right;\">\n",
       "      <th></th>\n",
       "      <th>is_first_round</th>\n",
       "      <th>funding_round_code</th>\n",
       "      <th>pre_money_valuation_usd</th>\n",
       "      <th>post_money_valuation_usd</th>\n",
       "      <th>raised_amount_usd</th>\n",
       "      <th>a</th>\n",
       "      <th>b</th>\n",
       "      <th>c</th>\n",
       "      <th>seed</th>\n",
       "    </tr>\n",
       "  </thead>\n",
       "  <tbody>\n",
       "    <tr>\n",
       "      <th>0</th>\n",
       "      <td>0</td>\n",
       "      <td>b</td>\n",
       "      <td>0.00</td>\n",
       "      <td>0.00</td>\n",
       "      <td>8500000.00</td>\n",
       "      <td>0</td>\n",
       "      <td>1</td>\n",
       "      <td>0</td>\n",
       "      <td>0</td>\n",
       "    </tr>\n",
       "    <tr>\n",
       "      <th>2</th>\n",
       "      <td>0</td>\n",
       "      <td>a</td>\n",
       "      <td>115000000.00</td>\n",
       "      <td>0.00</td>\n",
       "      <td>12700000.00</td>\n",
       "      <td>1</td>\n",
       "      <td>0</td>\n",
       "      <td>0</td>\n",
       "      <td>0</td>\n",
       "    </tr>\n",
       "    <tr>\n",
       "      <th>3</th>\n",
       "      <td>0</td>\n",
       "      <td>b</td>\n",
       "      <td>525000000.00</td>\n",
       "      <td>0.00</td>\n",
       "      <td>27500000.00</td>\n",
       "      <td>0</td>\n",
       "      <td>1</td>\n",
       "      <td>0</td>\n",
       "      <td>0</td>\n",
       "    </tr>\n",
       "    <tr>\n",
       "      <th>4</th>\n",
       "      <td>0</td>\n",
       "      <td>b</td>\n",
       "      <td>0.00</td>\n",
       "      <td>0.00</td>\n",
       "      <td>10500000.00</td>\n",
       "      <td>0</td>\n",
       "      <td>1</td>\n",
       "      <td>0</td>\n",
       "      <td>0</td>\n",
       "    </tr>\n",
       "    <tr>\n",
       "      <th>5</th>\n",
       "      <td>0</td>\n",
       "      <td>a</td>\n",
       "      <td>8500000.00</td>\n",
       "      <td>10000000.00</td>\n",
       "      <td>1500000.00</td>\n",
       "      <td>1</td>\n",
       "      <td>0</td>\n",
       "      <td>0</td>\n",
       "      <td>0</td>\n",
       "    </tr>\n",
       "  </tbody>\n",
       "</table>\n",
       "</div>"
      ],
      "text/plain": [
       "   is_first_round funding_round_code  pre_money_valuation_usd  \\\n",
       "0               0                  b                     0.00   \n",
       "2               0                  a             115000000.00   \n",
       "3               0                  b             525000000.00   \n",
       "4               0                  b                     0.00   \n",
       "5               0                  a               8500000.00   \n",
       "\n",
       "   post_money_valuation_usd  raised_amount_usd  a  b  c  seed  \n",
       "0                      0.00         8500000.00  0  1  0     0  \n",
       "2                      0.00        12700000.00  1  0  0     0  \n",
       "3                      0.00        27500000.00  0  1  0     0  \n",
       "4                      0.00        10500000.00  0  1  0     0  \n",
       "5               10000000.00         1500000.00  1  0  0     0  "
      ]
     },
     "execution_count": 12,
     "metadata": {},
     "output_type": "execute_result"
    }
   ],
   "source": [
    "# Adding the the newly created columns to the data\n",
    "\n",
    "data3 = pd.concat([data2, dummies], axis = 'columns')\n",
    "data3.head()"
   ]
  },
  {
   "cell_type": "code",
   "execution_count": 13,
   "id": "5964e9b5",
   "metadata": {},
   "outputs": [
    {
     "data": {
      "text/html": [
       "<div>\n",
       "<style scoped>\n",
       "    .dataframe tbody tr th:only-of-type {\n",
       "        vertical-align: middle;\n",
       "    }\n",
       "\n",
       "    .dataframe tbody tr th {\n",
       "        vertical-align: top;\n",
       "    }\n",
       "\n",
       "    .dataframe thead th {\n",
       "        text-align: right;\n",
       "    }\n",
       "</style>\n",
       "<table border=\"1\" class=\"dataframe\">\n",
       "  <thead>\n",
       "    <tr style=\"text-align: right;\">\n",
       "      <th></th>\n",
       "      <th>is_first_round</th>\n",
       "      <th>pre_money_valuation_usd</th>\n",
       "      <th>post_money_valuation_usd</th>\n",
       "      <th>raised_amount_usd</th>\n",
       "      <th>a</th>\n",
       "      <th>b</th>\n",
       "      <th>c</th>\n",
       "      <th>seed</th>\n",
       "    </tr>\n",
       "  </thead>\n",
       "  <tbody>\n",
       "    <tr>\n",
       "      <th>0</th>\n",
       "      <td>0</td>\n",
       "      <td>0.00</td>\n",
       "      <td>0.00</td>\n",
       "      <td>8500000.00</td>\n",
       "      <td>0</td>\n",
       "      <td>1</td>\n",
       "      <td>0</td>\n",
       "      <td>0</td>\n",
       "    </tr>\n",
       "    <tr>\n",
       "      <th>2</th>\n",
       "      <td>0</td>\n",
       "      <td>115000000.00</td>\n",
       "      <td>0.00</td>\n",
       "      <td>12700000.00</td>\n",
       "      <td>1</td>\n",
       "      <td>0</td>\n",
       "      <td>0</td>\n",
       "      <td>0</td>\n",
       "    </tr>\n",
       "    <tr>\n",
       "      <th>3</th>\n",
       "      <td>0</td>\n",
       "      <td>525000000.00</td>\n",
       "      <td>0.00</td>\n",
       "      <td>27500000.00</td>\n",
       "      <td>0</td>\n",
       "      <td>1</td>\n",
       "      <td>0</td>\n",
       "      <td>0</td>\n",
       "    </tr>\n",
       "    <tr>\n",
       "      <th>4</th>\n",
       "      <td>0</td>\n",
       "      <td>0.00</td>\n",
       "      <td>0.00</td>\n",
       "      <td>10500000.00</td>\n",
       "      <td>0</td>\n",
       "      <td>1</td>\n",
       "      <td>0</td>\n",
       "      <td>0</td>\n",
       "    </tr>\n",
       "    <tr>\n",
       "      <th>5</th>\n",
       "      <td>0</td>\n",
       "      <td>8500000.00</td>\n",
       "      <td>10000000.00</td>\n",
       "      <td>1500000.00</td>\n",
       "      <td>1</td>\n",
       "      <td>0</td>\n",
       "      <td>0</td>\n",
       "      <td>0</td>\n",
       "    </tr>\n",
       "  </tbody>\n",
       "</table>\n",
       "</div>"
      ],
      "text/plain": [
       "   is_first_round  pre_money_valuation_usd  post_money_valuation_usd  \\\n",
       "0               0                     0.00                      0.00   \n",
       "2               0             115000000.00                      0.00   \n",
       "3               0             525000000.00                      0.00   \n",
       "4               0                     0.00                      0.00   \n",
       "5               0               8500000.00               10000000.00   \n",
       "\n",
       "   raised_amount_usd  a  b  c  seed  \n",
       "0         8500000.00  0  1  0     0  \n",
       "2        12700000.00  1  0  0     0  \n",
       "3        27500000.00  0  1  0     0  \n",
       "4        10500000.00  0  1  0     0  \n",
       "5         1500000.00  1  0  0     0  "
      ]
     },
     "execution_count": 13,
     "metadata": {},
     "output_type": "execute_result"
    }
   ],
   "source": [
    "# removing funding_round_type feature from the dataset since it is no longer needed\n",
    "\n",
    "data4 = data3.drop(['funding_round_code'], axis =1)\n",
    "data4.head()"
   ]
  },
  {
   "cell_type": "code",
   "execution_count": 14,
   "id": "0b2c79b3",
   "metadata": {},
   "outputs": [
    {
     "data": {
      "text/plain": [
       "(26998, 8)"
      ]
     },
     "execution_count": 14,
     "metadata": {},
     "output_type": "execute_result"
    }
   ],
   "source": [
    "# removing any row where rounds a,b,c and seed are equal to 0 \n",
    "# since we are using atleast one of those for prediction\n",
    "index = data4[(data4['a'] == 0) & \n",
    "              (data4['b'] == 0) & \n",
    "              (data4['c'] == 0) &\n",
    "             (data4['seed'] == 0)].index\n",
    "\n",
    "data5 = data4.drop(index)\n",
    "\n",
    "data5.shape"
   ]
  },
  {
   "cell_type": "code",
   "execution_count": 15,
   "id": "dafc9f16",
   "metadata": {},
   "outputs": [
    {
     "data": {
      "text/html": [
       "<div>\n",
       "<style scoped>\n",
       "    .dataframe tbody tr th:only-of-type {\n",
       "        vertical-align: middle;\n",
       "    }\n",
       "\n",
       "    .dataframe tbody tr th {\n",
       "        vertical-align: top;\n",
       "    }\n",
       "\n",
       "    .dataframe thead th {\n",
       "        text-align: right;\n",
       "    }\n",
       "</style>\n",
       "<table border=\"1\" class=\"dataframe\">\n",
       "  <thead>\n",
       "    <tr style=\"text-align: right;\">\n",
       "      <th></th>\n",
       "      <th>is_first_round</th>\n",
       "      <th>pre_money_valuation_usd</th>\n",
       "      <th>post_money_valuation_usd</th>\n",
       "      <th>raised_amount_usd</th>\n",
       "      <th>series_a</th>\n",
       "      <th>series_b</th>\n",
       "      <th>series_c</th>\n",
       "      <th>seed</th>\n",
       "    </tr>\n",
       "  </thead>\n",
       "  <tbody>\n",
       "    <tr>\n",
       "      <th>0</th>\n",
       "      <td>0</td>\n",
       "      <td>0.00</td>\n",
       "      <td>0.00</td>\n",
       "      <td>8500000.00</td>\n",
       "      <td>0</td>\n",
       "      <td>1</td>\n",
       "      <td>0</td>\n",
       "      <td>0</td>\n",
       "    </tr>\n",
       "    <tr>\n",
       "      <th>2</th>\n",
       "      <td>0</td>\n",
       "      <td>115000000.00</td>\n",
       "      <td>0.00</td>\n",
       "      <td>12700000.00</td>\n",
       "      <td>1</td>\n",
       "      <td>0</td>\n",
       "      <td>0</td>\n",
       "      <td>0</td>\n",
       "    </tr>\n",
       "    <tr>\n",
       "      <th>3</th>\n",
       "      <td>0</td>\n",
       "      <td>525000000.00</td>\n",
       "      <td>0.00</td>\n",
       "      <td>27500000.00</td>\n",
       "      <td>0</td>\n",
       "      <td>1</td>\n",
       "      <td>0</td>\n",
       "      <td>0</td>\n",
       "    </tr>\n",
       "    <tr>\n",
       "      <th>4</th>\n",
       "      <td>0</td>\n",
       "      <td>0.00</td>\n",
       "      <td>0.00</td>\n",
       "      <td>10500000.00</td>\n",
       "      <td>0</td>\n",
       "      <td>1</td>\n",
       "      <td>0</td>\n",
       "      <td>0</td>\n",
       "    </tr>\n",
       "    <tr>\n",
       "      <th>5</th>\n",
       "      <td>0</td>\n",
       "      <td>8500000.00</td>\n",
       "      <td>10000000.00</td>\n",
       "      <td>1500000.00</td>\n",
       "      <td>1</td>\n",
       "      <td>0</td>\n",
       "      <td>0</td>\n",
       "      <td>0</td>\n",
       "    </tr>\n",
       "  </tbody>\n",
       "</table>\n",
       "</div>"
      ],
      "text/plain": [
       "   is_first_round  pre_money_valuation_usd  post_money_valuation_usd  \\\n",
       "0               0                     0.00                      0.00   \n",
       "2               0             115000000.00                      0.00   \n",
       "3               0             525000000.00                      0.00   \n",
       "4               0                     0.00                      0.00   \n",
       "5               0               8500000.00               10000000.00   \n",
       "\n",
       "   raised_amount_usd  series_a  series_b  series_c  seed  \n",
       "0         8500000.00         0         1         0     0  \n",
       "2        12700000.00         1         0         0     0  \n",
       "3        27500000.00         0         1         0     0  \n",
       "4        10500000.00         0         1         0     0  \n",
       "5         1500000.00         1         0         0     0  "
      ]
     },
     "execution_count": 15,
     "metadata": {},
     "output_type": "execute_result"
    }
   ],
   "source": [
    "# renaming a, b and c to series a, b and c\n",
    "\n",
    "data5.rename(columns = {'a': 'series_a', 'b': 'series_b', 'c': 'series_c'}, inplace = True)\n",
    "data5.head()"
   ]
  },
  {
   "cell_type": "markdown",
   "id": "df332288",
   "metadata": {},
   "source": [
    "If we look at the data table above we will notice rows where both post and pre money valuation are 0.\n",
    "Start-ups rarely get funded without some sort of valuation.\n",
    "We'll go ahead and remove rows where both post and pre money valuation are 0."
   ]
  },
  {
   "cell_type": "code",
   "execution_count": 16,
   "id": "6b16f182",
   "metadata": {},
   "outputs": [
    {
     "data": {
      "text/html": [
       "<div>\n",
       "<style scoped>\n",
       "    .dataframe tbody tr th:only-of-type {\n",
       "        vertical-align: middle;\n",
       "    }\n",
       "\n",
       "    .dataframe tbody tr th {\n",
       "        vertical-align: top;\n",
       "    }\n",
       "\n",
       "    .dataframe thead th {\n",
       "        text-align: right;\n",
       "    }\n",
       "</style>\n",
       "<table border=\"1\" class=\"dataframe\">\n",
       "  <thead>\n",
       "    <tr style=\"text-align: right;\">\n",
       "      <th></th>\n",
       "      <th>is_first_round</th>\n",
       "      <th>pre_money_valuation_usd</th>\n",
       "      <th>post_money_valuation_usd</th>\n",
       "      <th>raised_amount_usd</th>\n",
       "      <th>series_a</th>\n",
       "      <th>series_b</th>\n",
       "      <th>series_c</th>\n",
       "      <th>seed</th>\n",
       "    </tr>\n",
       "  </thead>\n",
       "  <tbody>\n",
       "    <tr>\n",
       "      <th>2</th>\n",
       "      <td>0</td>\n",
       "      <td>115000000.00</td>\n",
       "      <td>0.00</td>\n",
       "      <td>12700000.00</td>\n",
       "      <td>1</td>\n",
       "      <td>0</td>\n",
       "      <td>0</td>\n",
       "      <td>0</td>\n",
       "    </tr>\n",
       "    <tr>\n",
       "      <th>3</th>\n",
       "      <td>0</td>\n",
       "      <td>525000000.00</td>\n",
       "      <td>0.00</td>\n",
       "      <td>27500000.00</td>\n",
       "      <td>0</td>\n",
       "      <td>1</td>\n",
       "      <td>0</td>\n",
       "      <td>0</td>\n",
       "    </tr>\n",
       "    <tr>\n",
       "      <th>5</th>\n",
       "      <td>0</td>\n",
       "      <td>8500000.00</td>\n",
       "      <td>10000000.00</td>\n",
       "      <td>1500000.00</td>\n",
       "      <td>1</td>\n",
       "      <td>0</td>\n",
       "      <td>0</td>\n",
       "      <td>0</td>\n",
       "    </tr>\n",
       "    <tr>\n",
       "      <th>6</th>\n",
       "      <td>0</td>\n",
       "      <td>100000000.00</td>\n",
       "      <td>110000000.00</td>\n",
       "      <td>10000000.00</td>\n",
       "      <td>0</td>\n",
       "      <td>1</td>\n",
       "      <td>0</td>\n",
       "      <td>0</td>\n",
       "    </tr>\n",
       "    <tr>\n",
       "      <th>13</th>\n",
       "      <td>0</td>\n",
       "      <td>0.00</td>\n",
       "      <td>17500000.00</td>\n",
       "      <td>3710000.00</td>\n",
       "      <td>1</td>\n",
       "      <td>0</td>\n",
       "      <td>0</td>\n",
       "      <td>0</td>\n",
       "    </tr>\n",
       "  </tbody>\n",
       "</table>\n",
       "</div>"
      ],
      "text/plain": [
       "    is_first_round  pre_money_valuation_usd  post_money_valuation_usd  \\\n",
       "2                0             115000000.00                      0.00   \n",
       "3                0             525000000.00                      0.00   \n",
       "5                0               8500000.00               10000000.00   \n",
       "6                0             100000000.00              110000000.00   \n",
       "13               0                     0.00               17500000.00   \n",
       "\n",
       "    raised_amount_usd  series_a  series_b  series_c  seed  \n",
       "2         12700000.00         1         0         0     0  \n",
       "3         27500000.00         0         1         0     0  \n",
       "5          1500000.00         1         0         0     0  \n",
       "6         10000000.00         0         1         0     0  \n",
       "13         3710000.00         1         0         0     0  "
      ]
     },
     "execution_count": 16,
     "metadata": {},
     "output_type": "execute_result"
    }
   ],
   "source": [
    "# removing rows where pre and post money valuation are 0\n",
    "\n",
    "index = data5[(data5['post_money_valuation_usd'] == 0.0) & (data5['pre_money_valuation_usd'] == 0.0)].index\n",
    "\n",
    "data6 = data5.drop(index)\n",
    "\n",
    "data6.head()"
   ]
  },
  {
   "cell_type": "code",
   "execution_count": 17,
   "id": "a1531876",
   "metadata": {},
   "outputs": [
    {
     "data": {
      "text/plain": [
       "(781, 8)"
      ]
     },
     "execution_count": 17,
     "metadata": {},
     "output_type": "execute_result"
    }
   ],
   "source": [
    "# Let's see how many rows of data we have left\n",
    "data6.shape"
   ]
  },
  {
   "cell_type": "markdown",
   "id": "86628b48",
   "metadata": {},
   "source": [
    "A lot of data have been cut off due to not having a pre or post money valuation.\n",
    "We do not need those data since we are trying to predict how much money can be raised baised on valuation.\n"
   ]
  },
  {
   "cell_type": "code",
   "execution_count": 18,
   "id": "050e2105",
   "metadata": {
    "scrolled": true
   },
   "outputs": [
    {
     "name": "stdout",
     "output_type": "stream",
     "text": [
      "760\n"
     ]
    }
   ],
   "source": [
    "# Lets see how many 0s pre money valuation has\n",
    "print (len(data6[data6['pre_money_valuation_usd'] == 0.0]))"
   ]
  },
  {
   "cell_type": "markdown",
   "id": "92da3adc",
   "metadata": {},
   "source": [
    "Pre money valuation has a lot of zeros in it.\n",
    "This means that companies do not use or get funded too much based on pre money valuation"
   ]
  },
  {
   "cell_type": "code",
   "execution_count": 19,
   "id": "e385ad07",
   "metadata": {
    "scrolled": true
   },
   "outputs": [
    {
     "data": {
      "image/png": "[encoded data removed]",
      "text/plain": [
       "<Figure size 720x360 with 1 Axes>"
      ]
     },
     "metadata": {
      "needs_background": "light"
     },
     "output_type": "display_data"
    }
   ],
   "source": [
    "# Plotting a graph to see relationship between pre-money and amount raised \n",
    "plt.figure(figsize = (10,5))\n",
    "\n",
    "val = data6['pre_money_valuation_usd']\n",
    "amount = data6['raised_amount_usd']\n",
    "\n",
    "plt.scatter(val, amount)\n",
    "\n",
    "plt.xlabel(\"pre_money_valuation * 10 billion\", fontsize = 14 )\n",
    "plt.ylabel(\"Amount Raised * 100 million\", fontsize = 14)\n",
    "plt.title('pre-money-value vs amount-raised', fontsize = 14)\n",
    "plt.show()"
   ]
  },
  {
   "cell_type": "markdown",
   "id": "d8bf5a5b",
   "metadata": {},
   "source": [
    "Saw in the graph that a lot of money that was raised had no pre money valuation.\n",
    "That means most of the funders invest based on post money valuation"
   ]
  },
  {
   "cell_type": "code",
   "execution_count": 20,
   "id": "7bead038",
   "metadata": {},
   "outputs": [
    {
     "data": {
      "text/html": [
       "<div>\n",
       "<style scoped>\n",
       "    .dataframe tbody tr th:only-of-type {\n",
       "        vertical-align: middle;\n",
       "    }\n",
       "\n",
       "    .dataframe tbody tr th {\n",
       "        vertical-align: top;\n",
       "    }\n",
       "\n",
       "    .dataframe thead th {\n",
       "        text-align: right;\n",
       "    }\n",
       "</style>\n",
       "<table border=\"1\" class=\"dataframe\">\n",
       "  <thead>\n",
       "    <tr style=\"text-align: right;\">\n",
       "      <th></th>\n",
       "      <th>is_first_round</th>\n",
       "      <th>post_money_valuation_usd</th>\n",
       "      <th>raised_amount_usd</th>\n",
       "      <th>series_a</th>\n",
       "      <th>series_b</th>\n",
       "      <th>series_c</th>\n",
       "      <th>seed</th>\n",
       "    </tr>\n",
       "  </thead>\n",
       "  <tbody>\n",
       "    <tr>\n",
       "      <th>2</th>\n",
       "      <td>0</td>\n",
       "      <td>0.00</td>\n",
       "      <td>12700000.00</td>\n",
       "      <td>1</td>\n",
       "      <td>0</td>\n",
       "      <td>0</td>\n",
       "      <td>0</td>\n",
       "    </tr>\n",
       "    <tr>\n",
       "      <th>3</th>\n",
       "      <td>0</td>\n",
       "      <td>0.00</td>\n",
       "      <td>27500000.00</td>\n",
       "      <td>0</td>\n",
       "      <td>1</td>\n",
       "      <td>0</td>\n",
       "      <td>0</td>\n",
       "    </tr>\n",
       "    <tr>\n",
       "      <th>5</th>\n",
       "      <td>0</td>\n",
       "      <td>10000000.00</td>\n",
       "      <td>1500000.00</td>\n",
       "      <td>1</td>\n",
       "      <td>0</td>\n",
       "      <td>0</td>\n",
       "      <td>0</td>\n",
       "    </tr>\n",
       "    <tr>\n",
       "      <th>6</th>\n",
       "      <td>0</td>\n",
       "      <td>110000000.00</td>\n",
       "      <td>10000000.00</td>\n",
       "      <td>0</td>\n",
       "      <td>1</td>\n",
       "      <td>0</td>\n",
       "      <td>0</td>\n",
       "    </tr>\n",
       "    <tr>\n",
       "      <th>13</th>\n",
       "      <td>0</td>\n",
       "      <td>17500000.00</td>\n",
       "      <td>3710000.00</td>\n",
       "      <td>1</td>\n",
       "      <td>0</td>\n",
       "      <td>0</td>\n",
       "      <td>0</td>\n",
       "    </tr>\n",
       "  </tbody>\n",
       "</table>\n",
       "</div>"
      ],
      "text/plain": [
       "    is_first_round  post_money_valuation_usd  raised_amount_usd  series_a  \\\n",
       "2                0                      0.00        12700000.00         1   \n",
       "3                0                      0.00        27500000.00         0   \n",
       "5                0               10000000.00         1500000.00         1   \n",
       "6                0              110000000.00        10000000.00         0   \n",
       "13               0               17500000.00         3710000.00         1   \n",
       "\n",
       "    series_b  series_c  seed  \n",
       "2          0         0     0  \n",
       "3          1         0     0  \n",
       "5          0         0     0  \n",
       "6          1         0     0  \n",
       "13         0         0     0  "
      ]
     },
     "execution_count": 20,
     "metadata": {},
     "output_type": "execute_result"
    }
   ],
   "source": [
    "# dropping the pre money valuation column \n",
    "\n",
    "data7 = data6.drop(['pre_money_valuation_usd'], axis = 1)\n",
    "data7.head()"
   ]
  },
  {
   "cell_type": "code",
   "execution_count": 21,
   "id": "c2e24b32",
   "metadata": {},
   "outputs": [
    {
     "name": "stdout",
     "output_type": "stream",
     "text": [
      "12\n",
      "22\n"
     ]
    }
   ],
   "source": [
    "# Lets see how many 0s post money valuation and raised amount has\n",
    "\n",
    "print (len(data7[data7['post_money_valuation_usd'] == 0.0]) )\n",
    "print (len(data7[data7['raised_amount_usd'] == 0.0]))"
   ]
  },
  {
   "cell_type": "code",
   "execution_count": 22,
   "id": "d3ddd1a8",
   "metadata": {
    "scrolled": false
   },
   "outputs": [
    {
     "name": "stdout",
     "output_type": "stream",
     "text": [
      "0\n",
      "0\n"
     ]
    }
   ],
   "source": [
    "# removing rows where post money valuation and raised amount is 0\n",
    "\n",
    "index = data7[(data7['post_money_valuation_usd'] == 0.0) | (data7['raised_amount_usd'] == 0.0)].index\n",
    "\n",
    "data8 = data7.drop(index)\n",
    "\n",
    "print (len(data8[data8['post_money_valuation_usd'] == 0.0]))\n",
    "print (len(data8[data8['raised_amount_usd'] == 0.0]))"
   ]
  },
  {
   "cell_type": "code",
   "execution_count": 23,
   "id": "b2ab6b6c",
   "metadata": {
    "scrolled": true
   },
   "outputs": [
    {
     "name": "stdout",
     "output_type": "stream",
     "text": [
      "25\n"
     ]
    }
   ],
   "source": [
    "# Lets see how many rows have values where post money valuation is less than raised amount\n",
    "\n",
    "print (len(data8[data8['post_money_valuation_usd'] < data8['raised_amount_usd']]) )"
   ]
  },
  {
   "cell_type": "markdown",
   "id": "fe512c7a",
   "metadata": {},
   "source": [
    "25 rows have values where post money valuation is less than raised amount. Those are errors we need to remove.\n",
    "The amount raised cannot be more than the valuation of the firm."
   ]
  },
  {
   "cell_type": "code",
   "execution_count": 24,
   "id": "fe0f3b52",
   "metadata": {},
   "outputs": [
    {
     "data": {
      "text/html": [
       "<div>\n",
       "<style scoped>\n",
       "    .dataframe tbody tr th:only-of-type {\n",
       "        vertical-align: middle;\n",
       "    }\n",
       "\n",
       "    .dataframe tbody tr th {\n",
       "        vertical-align: top;\n",
       "    }\n",
       "\n",
       "    .dataframe thead th {\n",
       "        text-align: right;\n",
       "    }\n",
       "</style>\n",
       "<table border=\"1\" class=\"dataframe\">\n",
       "  <thead>\n",
       "    <tr style=\"text-align: right;\">\n",
       "      <th></th>\n",
       "      <th>is_first_round</th>\n",
       "      <th>post_money_valuation_usd</th>\n",
       "      <th>raised_amount_usd</th>\n",
       "      <th>series_a</th>\n",
       "      <th>series_b</th>\n",
       "      <th>series_c</th>\n",
       "      <th>seed</th>\n",
       "    </tr>\n",
       "  </thead>\n",
       "  <tbody>\n",
       "    <tr>\n",
       "      <th>5</th>\n",
       "      <td>0</td>\n",
       "      <td>10000000.00</td>\n",
       "      <td>1500000.00</td>\n",
       "      <td>1</td>\n",
       "      <td>0</td>\n",
       "      <td>0</td>\n",
       "      <td>0</td>\n",
       "    </tr>\n",
       "    <tr>\n",
       "      <th>6</th>\n",
       "      <td>0</td>\n",
       "      <td>110000000.00</td>\n",
       "      <td>10000000.00</td>\n",
       "      <td>0</td>\n",
       "      <td>1</td>\n",
       "      <td>0</td>\n",
       "      <td>0</td>\n",
       "    </tr>\n",
       "    <tr>\n",
       "      <th>13</th>\n",
       "      <td>0</td>\n",
       "      <td>17500000.00</td>\n",
       "      <td>3710000.00</td>\n",
       "      <td>1</td>\n",
       "      <td>0</td>\n",
       "      <td>0</td>\n",
       "      <td>0</td>\n",
       "    </tr>\n",
       "    <tr>\n",
       "      <th>18</th>\n",
       "      <td>0</td>\n",
       "      <td>7500000.00</td>\n",
       "      <td>3800000.00</td>\n",
       "      <td>1</td>\n",
       "      <td>0</td>\n",
       "      <td>0</td>\n",
       "      <td>0</td>\n",
       "    </tr>\n",
       "    <tr>\n",
       "      <th>19</th>\n",
       "      <td>0</td>\n",
       "      <td>33500000.00</td>\n",
       "      <td>8500000.00</td>\n",
       "      <td>0</td>\n",
       "      <td>1</td>\n",
       "      <td>0</td>\n",
       "      <td>0</td>\n",
       "    </tr>\n",
       "  </tbody>\n",
       "</table>\n",
       "</div>"
      ],
      "text/plain": [
       "    is_first_round  post_money_valuation_usd  raised_amount_usd  series_a  \\\n",
       "5                0               10000000.00         1500000.00         1   \n",
       "6                0              110000000.00        10000000.00         0   \n",
       "13               0               17500000.00         3710000.00         1   \n",
       "18               0                7500000.00         3800000.00         1   \n",
       "19               0               33500000.00         8500000.00         0   \n",
       "\n",
       "    series_b  series_c  seed  \n",
       "5          0         0     0  \n",
       "6          1         0     0  \n",
       "13         0         0     0  \n",
       "18         0         0     0  \n",
       "19         1         0     0  "
      ]
     },
     "execution_count": 24,
     "metadata": {},
     "output_type": "execute_result"
    }
   ],
   "source": [
    "# removing rows where valuation is less than raised amount \n",
    "\n",
    "index = data8[(data8['post_money_valuation_usd'] < data8['raised_amount_usd'])].index\n",
    "\n",
    "data9 = data8.drop(index)\n",
    "\n",
    "data9.head()"
   ]
  },
  {
   "cell_type": "code",
   "execution_count": 25,
   "id": "be28a30d",
   "metadata": {},
   "outputs": [
    {
     "data": {
      "text/plain": [
       "(723, 7)"
      ]
     },
     "execution_count": 25,
     "metadata": {},
     "output_type": "execute_result"
    }
   ],
   "source": [
    "data9.shape"
   ]
  },
  {
   "cell_type": "code",
   "execution_count": 26,
   "id": "30f2086b",
   "metadata": {},
   "outputs": [
    {
     "data": {
      "image/png": "[encoded data removed]",
      "text/plain": [
       "<Figure size 720x360 with 1 Axes>"
      ]
     },
     "metadata": {
      "needs_background": "light"
     },
     "output_type": "display_data"
    }
   ],
   "source": [
    "# Graphing relationship between post money and raised amount to look for outliers\n",
    "\n",
    "plt.figure(figsize = (10,5))\n",
    "\n",
    "val = data9['post_money_valuation_usd']\n",
    "amount = data9['raised_amount_usd']\n",
    "\n",
    "plt.scatter(val, amount)\n",
    "\n",
    "m, b = np.polyfit(val, amount, 1)\n",
    "plt.plot(val, m*val + b)\n",
    "\n",
    "plt.xlabel(\"post_money_valuation * 10 billion\", fontsize = 14)\n",
    "plt.ylabel(\"Amount Raised * 100 million\" , fontsize = 14)\n",
    "plt.title('post-money-value vs amount-raised', fontsize = 14)\n",
    "plt.show()"
   ]
  },
  {
   "cell_type": "markdown",
   "id": "c514a907",
   "metadata": {},
   "source": [
    "There were some outliers in the graph above and I want to remove outiers so the model can make better predictions.\n",
    "\n",
    "Since most startups' valuation do not exceed 125 million, and it's advisable that their amount raised per round should not exceed 25% of their valuation, I am going to remove rows where post_money_valuation is more than 125 million and the rows where raised_amount is more than 30 million\n",
    "\n"
   ]
  },
  {
   "cell_type": "code",
   "execution_count": 27,
   "id": "3546e939",
   "metadata": {},
   "outputs": [
    {
     "data": {
      "text/plain": [
       "(698, 7)"
      ]
     },
     "execution_count": 27,
     "metadata": {},
     "output_type": "execute_result"
    }
   ],
   "source": [
    "# removing rows where post_money_valuation_usd is more and 200 million\n",
    "# and raised_amount_usd is more than 50 million\n",
    "data10 = data9.drop(data9[(data9['post_money_valuation_usd']>125_000_000) |  \n",
    "                          (data9['raised_amount_usd']> 30_000_000)].index)\n",
    "data10.shape"
   ]
  },
  {
   "cell_type": "code",
   "execution_count": 28,
   "id": "0a3a0d17",
   "metadata": {
    "scrolled": false
   },
   "outputs": [
    {
     "data": {
      "image/png": "[encoded data removed]",
      "text/plain": [
       "<Figure size 720x360 with 1 Axes>"
      ]
     },
     "metadata": {
      "needs_background": "light"
     },
     "output_type": "display_data"
    }
   ],
   "source": [
    "# plotting the post-money-value vs amount-raised graph again\n",
    "\n",
    "plt.figure(figsize = (10,5))\n",
    "\n",
    "val = data10['post_money_valuation_usd']\n",
    "amount = data10['raised_amount_usd']\n",
    "\n",
    "plt.scatter(val, amount)\n",
    "\n",
    "m, b = np.polyfit(val, amount, 1)\n",
    "plt.plot(val, m*val + b)\n",
    "\n",
    "plt.ticklabel_format(style='plain')\n",
    "\n",
    "plt.xlabel(\"post_money_valuation\", fontsize = 14)\n",
    "plt.ylabel(\"Amount Raised\", fontsize = 14)\n",
    "plt.title('post-money-value vs amount-raised', fontsize = 14)\n",
    "\n",
    "plt.show()"
   ]
  },
  {
   "cell_type": "markdown",
   "id": "deea0e6d",
   "metadata": {},
   "source": [
    "We can see from the graph that there are no extreme outliers and the relasionship between valuation and raised amount is positive."
   ]
  },
  {
   "cell_type": "code",
   "execution_count": 29,
   "id": "c057d3b5",
   "metadata": {
    "scrolled": false
   },
   "outputs": [
    {
     "data": {
      "image/png": "[encoded data removed]",
      "text/plain": [
       "<Figure size 720x360 with 2 Axes>"
      ]
     },
     "metadata": {
      "needs_background": "light"
     },
     "output_type": "display_data"
    }
   ],
   "source": [
    "# let's graph the distribution of post money valuation\n",
    "\n",
    "from scipy import stats\n",
    "from scipy.stats import norm\n",
    "\n",
    "\n",
    "plt.figure(figsize = (10,5))\n",
    "\n",
    "skew = data10['post_money_valuation_usd']\n",
    "\n",
    "plt.subplot(1, 2, 1)\n",
    "sns.distplot(skew, fit = norm)\n",
    "plt.ylabel('Frequency')\n",
    "plt.title('Amount distribution')\n",
    "\n",
    "plt.subplot(1, 2, 2)\n",
    "stats.probplot(skew, plot=plt)\n",
    "plt.title('Normal Q-Q')\n",
    "\n",
    "plt.show()"
   ]
  },
  {
   "cell_type": "code",
   "execution_count": 30,
   "id": "b571e909",
   "metadata": {},
   "outputs": [
    {
     "data": {
      "image/png": "[encoded data removed]",
      "text/plain": [
       "<Figure size 720x360 with 2 Axes>"
      ]
     },
     "metadata": {
      "needs_background": "light"
     },
     "output_type": "display_data"
    }
   ],
   "source": [
    "# let's graph the distribution of amount rainsed\n",
    "\n",
    "plt.figure(figsize = (10,5))\n",
    "\n",
    "skew = data10['raised_amount_usd']\n",
    "\n",
    "plt.subplot(1, 2, 1)\n",
    "sns.distplot(skew, fit = norm)\n",
    "plt.ylabel('Frequency')\n",
    "plt.title('Amount distribution')\n",
    "\n",
    "plt.subplot(1, 2, 2)\n",
    "stats.probplot(skew, plot=plt)\n",
    "\n",
    "plt.show()"
   ]
  },
  {
   "cell_type": "markdown",
   "id": "cf39e5c3",
   "metadata": {},
   "source": [
    "Post money valuation and raised amount values are not normally distributed and working with linear regression, we need to make sure our values are normally distributed and values form a linear line on the normal plot in order to make better predictions. \n",
    "So I am going to normalize both variables by using the log of their values. "
   ]
  },
  {
   "cell_type": "code",
   "execution_count": 31,
   "id": "5e0f84f4",
   "metadata": {},
   "outputs": [
    {
     "data": {
      "image/png": "[encoded data removed]",
      "text/plain": [
       "<Figure size 720x360 with 2 Axes>"
      ]
     },
     "metadata": {
      "needs_background": "light"
     },
     "output_type": "display_data"
    }
   ],
   "source": [
    "# let's graph the distribution of post money valuation after taking log of values\n",
    "\n",
    "plt.figure(figsize = (10,5))\n",
    "\n",
    "log_post = np.log(data10['post_money_valuation_usd'])\n",
    "\n",
    "plt.subplot(1, 2, 1)\n",
    "sns.distplot(log_post, fit = norm)\n",
    "plt.ylabel('Frequency')\n",
    "plt.title('Amount distribution')\n",
    "\n",
    "\n",
    "plt.subplot(1, 2, 2)\n",
    "stats.probplot(log_post, plot=plt)\n",
    "\n",
    "plt.show()"
   ]
  },
  {
   "cell_type": "code",
   "execution_count": 32,
   "id": "41257dd5",
   "metadata": {
    "scrolled": false
   },
   "outputs": [
    {
     "data": {
      "image/png": "[encoded data removed]",
      "text/plain": [
       "<Figure size 720x360 with 2 Axes>"
      ]
     },
     "metadata": {
      "needs_background": "light"
     },
     "output_type": "display_data"
    }
   ],
   "source": [
    "# let's graph the distribution of raised amount after taking log of values\n",
    "\n",
    "\n",
    "plt.figure(figsize = (10,5))\n",
    "\n",
    "log_raised = np.log(data10['raised_amount_usd'])\n",
    "\n",
    "plt.subplot(1, 2, 1)\n",
    "sns.distplot(log_raised, fit = norm)\n",
    "plt.ylabel('Frequency')\n",
    "plt.title('Amount distribution')\n",
    "\n",
    "plt.subplot(1, 2, 2)\n",
    "stats.probplot(log_raised, plot=plt)\n",
    "\n",
    "plt.show()"
   ]
  },
  {
   "cell_type": "markdown",
   "id": "5563f075",
   "metadata": {},
   "source": [
    "As we can see, both variables are some what better distributed now than before even though they are still not perfectly distributed."
   ]
  },
  {
   "cell_type": "code",
   "execution_count": 33,
   "id": "0510f992",
   "metadata": {
    "scrolled": false
   },
   "outputs": [
    {
     "data": {
      "text/plain": [
       "<AxesSubplot:>"
      ]
     },
     "execution_count": 33,
     "metadata": {},
     "output_type": "execute_result"
    },
    {
     "data": {
      "image/png": "[encoded data removed]",
      "text/plain": [
       "<Figure size 720x720 with 2 Axes>"
      ]
     },
     "metadata": {
      "needs_background": "light"
     },
     "output_type": "display_data"
    }
   ],
   "source": [
    "# Finding feature correlation \n",
    "corr = data10.corr()\n",
    "plt.figure(figsize=(10, 10))\n",
    "sns.heatmap(corr,vmin=-1, vmax=1, linewidths=0.5,square=True,annot=True, cmap=\"YlGnBu\")"
   ]
  },
  {
   "cell_type": "markdown",
   "id": "5a3f661d",
   "metadata": {},
   "source": [
    "is_first_round has almost no correlation with raised_amount making the worst for predicting raised amount.\n",
    "Post_money_valuation has the best correlation with raised_amount making the best feature for predicting raised amount."
   ]
  },
  {
   "cell_type": "code",
   "execution_count": 34,
   "id": "c613486f",
   "metadata": {
    "scrolled": true
   },
   "outputs": [
    {
     "data": {
      "text/html": [
       "<div>\n",
       "<style scoped>\n",
       "    .dataframe tbody tr th:only-of-type {\n",
       "        vertical-align: middle;\n",
       "    }\n",
       "\n",
       "    .dataframe tbody tr th {\n",
       "        vertical-align: top;\n",
       "    }\n",
       "\n",
       "    .dataframe thead th {\n",
       "        text-align: right;\n",
       "    }\n",
       "</style>\n",
       "<table border=\"1\" class=\"dataframe\">\n",
       "  <thead>\n",
       "    <tr style=\"text-align: right;\">\n",
       "      <th></th>\n",
       "      <th>post_money_valuation_usd</th>\n",
       "      <th>raised_amount_usd</th>\n",
       "      <th>series_a</th>\n",
       "      <th>series_b</th>\n",
       "      <th>series_c</th>\n",
       "      <th>seed</th>\n",
       "    </tr>\n",
       "  </thead>\n",
       "  <tbody>\n",
       "    <tr>\n",
       "      <th>5</th>\n",
       "      <td>10000000.00</td>\n",
       "      <td>1500000.00</td>\n",
       "      <td>1</td>\n",
       "      <td>0</td>\n",
       "      <td>0</td>\n",
       "      <td>0</td>\n",
       "    </tr>\n",
       "    <tr>\n",
       "      <th>6</th>\n",
       "      <td>110000000.00</td>\n",
       "      <td>10000000.00</td>\n",
       "      <td>0</td>\n",
       "      <td>1</td>\n",
       "      <td>0</td>\n",
       "      <td>0</td>\n",
       "    </tr>\n",
       "    <tr>\n",
       "      <th>13</th>\n",
       "      <td>17500000.00</td>\n",
       "      <td>3710000.00</td>\n",
       "      <td>1</td>\n",
       "      <td>0</td>\n",
       "      <td>0</td>\n",
       "      <td>0</td>\n",
       "    </tr>\n",
       "    <tr>\n",
       "      <th>18</th>\n",
       "      <td>7500000.00</td>\n",
       "      <td>3800000.00</td>\n",
       "      <td>1</td>\n",
       "      <td>0</td>\n",
       "      <td>0</td>\n",
       "      <td>0</td>\n",
       "    </tr>\n",
       "    <tr>\n",
       "      <th>19</th>\n",
       "      <td>33500000.00</td>\n",
       "      <td>8500000.00</td>\n",
       "      <td>0</td>\n",
       "      <td>1</td>\n",
       "      <td>0</td>\n",
       "      <td>0</td>\n",
       "    </tr>\n",
       "  </tbody>\n",
       "</table>\n",
       "</div>"
      ],
      "text/plain": [
       "    post_money_valuation_usd  raised_amount_usd  series_a  series_b  series_c  \\\n",
       "5                10000000.00         1500000.00         1         0         0   \n",
       "6               110000000.00        10000000.00         0         1         0   \n",
       "13               17500000.00         3710000.00         1         0         0   \n",
       "18                7500000.00         3800000.00         1         0         0   \n",
       "19               33500000.00         8500000.00         0         1         0   \n",
       "\n",
       "    seed  \n",
       "5      0  \n",
       "6      0  \n",
       "13     0  \n",
       "18     0  \n",
       "19     0  "
      ]
     },
     "execution_count": 34,
     "metadata": {},
     "output_type": "execute_result"
    }
   ],
   "source": [
    "# dropping is_first_round from dataset\n",
    "\n",
    "data11 = data10.drop(['is_first_round'], axis = 1)\n",
    "data11.head()"
   ]
  },
  {
   "cell_type": "markdown",
   "id": "80375d3b",
   "metadata": {},
   "source": [
    "## Spliting Data"
   ]
  },
  {
   "cell_type": "code",
   "execution_count": 35,
   "id": "f7c37950",
   "metadata": {
    "scrolled": true
   },
   "outputs": [
    {
     "name": "stdout",
     "output_type": "stream",
     "text": [
      "(698, 5) (698,)\n"
     ]
    }
   ],
   "source": [
    "# Assigning Dependent variable y and predictors X\n",
    "X = data11.drop(['raised_amount_usd'], axis = 1)\n",
    "y = data11['raised_amount_usd']\n",
    "print(X.shape,y.shape)"
   ]
  },
  {
   "cell_type": "code",
   "execution_count": 36,
   "id": "7f304f13",
   "metadata": {},
   "outputs": [],
   "source": [
    "# using log of raised_amount and log of post_money_valuation to train the model\n",
    "y = np.log(y)\n",
    "X['post_money_valuation_usd'] = np.log(X['post_money_valuation_usd'])"
   ]
  },
  {
   "cell_type": "code",
   "execution_count": 51,
   "id": "0d89b8db",
   "metadata": {},
   "outputs": [
    {
     "data": {
      "text/html": [
       "<div>\n",
       "<style scoped>\n",
       "    .dataframe tbody tr th:only-of-type {\n",
       "        vertical-align: middle;\n",
       "    }\n",
       "\n",
       "    .dataframe tbody tr th {\n",
       "        vertical-align: top;\n",
       "    }\n",
       "\n",
       "    .dataframe thead th {\n",
       "        text-align: right;\n",
       "    }\n",
       "</style>\n",
       "<table border=\"1\" class=\"dataframe\">\n",
       "  <thead>\n",
       "    <tr style=\"text-align: right;\">\n",
       "      <th></th>\n",
       "      <th>post_money_valuation_usd</th>\n",
       "      <th>series_a</th>\n",
       "      <th>series_b</th>\n",
       "      <th>series_c</th>\n",
       "      <th>seed</th>\n",
       "    </tr>\n",
       "  </thead>\n",
       "  <tbody>\n",
       "    <tr>\n",
       "      <th>5</th>\n",
       "      <td>16.12</td>\n",
       "      <td>1</td>\n",
       "      <td>0</td>\n",
       "      <td>0</td>\n",
       "      <td>0</td>\n",
       "    </tr>\n",
       "    <tr>\n",
       "      <th>6</th>\n",
       "      <td>18.52</td>\n",
       "      <td>0</td>\n",
       "      <td>1</td>\n",
       "      <td>0</td>\n",
       "      <td>0</td>\n",
       "    </tr>\n",
       "    <tr>\n",
       "      <th>13</th>\n",
       "      <td>16.68</td>\n",
       "      <td>1</td>\n",
       "      <td>0</td>\n",
       "      <td>0</td>\n",
       "      <td>0</td>\n",
       "    </tr>\n",
       "    <tr>\n",
       "      <th>18</th>\n",
       "      <td>15.83</td>\n",
       "      <td>1</td>\n",
       "      <td>0</td>\n",
       "      <td>0</td>\n",
       "      <td>0</td>\n",
       "    </tr>\n",
       "    <tr>\n",
       "      <th>19</th>\n",
       "      <td>17.33</td>\n",
       "      <td>0</td>\n",
       "      <td>1</td>\n",
       "      <td>0</td>\n",
       "      <td>0</td>\n",
       "    </tr>\n",
       "  </tbody>\n",
       "</table>\n",
       "</div>"
      ],
      "text/plain": [
       "    post_money_valuation_usd  series_a  series_b  series_c  seed\n",
       "5                      16.12         1         0         0     0\n",
       "6                      18.52         0         1         0     0\n",
       "13                     16.68         1         0         0     0\n",
       "18                     15.83         1         0         0     0\n",
       "19                     17.33         0         1         0     0"
      ]
     },
     "execution_count": 51,
     "metadata": {},
     "output_type": "execute_result"
    }
   ],
   "source": [
    "# first 5 values of post_money_valuation after taking its log\n",
    "X.head()"
   ]
  },
  {
   "cell_type": "code",
   "execution_count": 52,
   "id": "b6053de9",
   "metadata": {
    "scrolled": true
   },
   "outputs": [
    {
     "data": {
      "text/plain": [
       "5    14.22\n",
       "6    16.12\n",
       "13   15.13\n",
       "18   15.15\n",
       "19   15.96\n",
       "Name: raised_amount_usd, dtype: float64"
      ]
     },
     "execution_count": 52,
     "metadata": {},
     "output_type": "execute_result"
    }
   ],
   "source": [
    "# first 5 values of raised_amount after taking its log\n",
    "y.head()"
   ]
  },
  {
   "cell_type": "code",
   "execution_count": 57,
   "id": "e6dabbba",
   "metadata": {},
   "outputs": [
    {
     "name": "stdout",
     "output_type": "stream",
     "text": [
      "(558, 5) (140, 5) (558,) (140,)\n"
     ]
    }
   ],
   "source": [
    "# Spliting dataset into train and test\n",
    "\n",
    "from sklearn.model_selection import train_test_split\n",
    "\n",
    "X_train, X_test, y_train, y_test = train_test_split(X, y, test_size = .2, random_state = 2)\n",
    "print(X_train.shape, X_test.shape, y_train.shape, y_test.shape)"
   ]
  },
  {
   "cell_type": "markdown",
   "id": "d52a20d5",
   "metadata": {},
   "source": [
    "Train size is 80% of dataset which is 558 and test size is 20% which is 140 "
   ]
  },
  {
   "cell_type": "markdown",
   "id": "7abcb252",
   "metadata": {},
   "source": [
    "## Model Training"
   ]
  },
  {
   "cell_type": "code",
   "execution_count": 59,
   "id": "59a1e8e8",
   "metadata": {},
   "outputs": [
    {
     "name": "stdout",
     "output_type": "stream",
     "text": [
      "mse =  1.1582410554878377\n"
     ]
    }
   ],
   "source": [
    "# Training the model using linear regression \n",
    "# using mean squared error for evaluation\n",
    "from sklearn.linear_model import LinearRegression\n",
    "from sklearn.model_selection import cross_val_score\n",
    "from sklearn.model_selection import ShuffleSplit\n",
    "\n",
    "model1 = LinearRegression()\n",
    "model1.fit(X_train, y_train)\n",
    "\n",
    "cv = ShuffleSplit(n_splits = 5, test_size = 0.2, random_state = 1)\n",
    "\n",
    "error = -cross_val_score(model1, X, y, scoring=\"neg_mean_squared_error\", cv = cv)\n",
    "\n",
    "print('mse = ', error.mean())    "
   ]
  },
  {
   "cell_type": "code",
   "execution_count": 61,
   "id": "6711bec8",
   "metadata": {},
   "outputs": [
    {
     "name": "stdout",
     "output_type": "stream",
     "text": [
      "mse =  1.6240269767363973\n"
     ]
    }
   ],
   "source": [
    "# Training the model using Lasso regression\n",
    "# using mean squared error for evaluation\n",
    "\n",
    "from sklearn.linear_model import Lasso\n",
    "\n",
    "model2 = Lasso()\n",
    "model2.fit(X_train, y_train)\n",
    "\n",
    "cv = ShuffleSplit(n_splits = 5, test_size = 0.2, random_state = 1)\n",
    "error = -cross_val_score(model2, X, y, scoring=\"neg_mean_squared_error\", cv = cv)\n",
    "\n",
    "print('mse = ', error.mean())"
   ]
  },
  {
   "cell_type": "code",
   "execution_count": 60,
   "id": "99e2944e",
   "metadata": {
    "scrolled": true
   },
   "outputs": [
    {
     "name": "stdout",
     "output_type": "stream",
     "text": [
      "mse =  1.6240269767363973\n"
     ]
    }
   ],
   "source": [
    "# Training the model using ElasticNet regression\n",
    "# using mean squared error for evaluation\n",
    "\n",
    "from sklearn.linear_model import ElasticNet\n",
    "\n",
    "\n",
    "model3 = ElasticNet()\n",
    "model3.fit(X_train, y_train)\n",
    "\n",
    "cv = ShuffleSplit(n_splits = 5, test_size = 0.2, random_state = 1)\n",
    "\n",
    "error = -cross_val_score(model2, X, y, scoring=\"neg_mean_squared_error\", cv = cv)\n",
    "\n",
    "print('mse = ', error.mean())"
   ]
  },
  {
   "cell_type": "markdown",
   "id": "f945469a",
   "metadata": {},
   "source": [
    "As we can see from the evaluation scores of each model, Linear regression has the least mean squared error which means that it has the best accuracy of predicting raised funds. \n",
    "That is the model we are going to use."
   ]
  },
  {
   "cell_type": "markdown",
   "id": "b57d62d8",
   "metadata": {},
   "source": [
    "## Testing Model"
   ]
  },
  {
   "cell_type": "code",
   "execution_count": 62,
   "id": "a025aa06",
   "metadata": {},
   "outputs": [],
   "source": [
    "# reverting the logged test values back to normal values for prediction\n",
    "y_test = np.exp(y_test)\n",
    "X_test['post_money_valuation_usd'] = np.exp(X_test['post_money_valuation_usd'])"
   ]
  },
  {
   "cell_type": "code",
   "execution_count": 63,
   "id": "382068ac",
   "metadata": {
    "scrolled": true
   },
   "outputs": [
    {
     "data": {
      "text/plain": [
       "34829   1000000.00\n",
       "32415    350000.00\n",
       "29863     50000.00\n",
       "36436     25000.00\n",
       "29485    100000.00\n",
       "Name: raised_amount_usd, dtype: float64"
      ]
     },
     "execution_count": 63,
     "metadata": {},
     "output_type": "execute_result"
    }
   ],
   "source": [
    "# normal values\n",
    "\n",
    "y_test.head()"
   ]
  },
  {
   "cell_type": "code",
   "execution_count": 64,
   "id": "19b4d14f",
   "metadata": {},
   "outputs": [
    {
     "data": {
      "text/html": [
       "<div>\n",
       "<style scoped>\n",
       "    .dataframe tbody tr th:only-of-type {\n",
       "        vertical-align: middle;\n",
       "    }\n",
       "\n",
       "    .dataframe tbody tr th {\n",
       "        vertical-align: top;\n",
       "    }\n",
       "\n",
       "    .dataframe thead th {\n",
       "        text-align: right;\n",
       "    }\n",
       "</style>\n",
       "<table border=\"1\" class=\"dataframe\">\n",
       "  <thead>\n",
       "    <tr style=\"text-align: right;\">\n",
       "      <th></th>\n",
       "      <th>post_money_valuation_usd</th>\n",
       "      <th>series_a</th>\n",
       "      <th>series_b</th>\n",
       "      <th>series_c</th>\n",
       "      <th>seed</th>\n",
       "    </tr>\n",
       "  </thead>\n",
       "  <tbody>\n",
       "    <tr>\n",
       "      <th>34829</th>\n",
       "      <td>1000000.00</td>\n",
       "      <td>0</td>\n",
       "      <td>0</td>\n",
       "      <td>0</td>\n",
       "      <td>1</td>\n",
       "    </tr>\n",
       "    <tr>\n",
       "      <th>32415</th>\n",
       "      <td>5400000.00</td>\n",
       "      <td>0</td>\n",
       "      <td>0</td>\n",
       "      <td>0</td>\n",
       "      <td>1</td>\n",
       "    </tr>\n",
       "    <tr>\n",
       "      <th>29863</th>\n",
       "      <td>500000.00</td>\n",
       "      <td>0</td>\n",
       "      <td>0</td>\n",
       "      <td>0</td>\n",
       "      <td>1</td>\n",
       "    </tr>\n",
       "    <tr>\n",
       "      <th>36436</th>\n",
       "      <td>2500000.00</td>\n",
       "      <td>0</td>\n",
       "      <td>0</td>\n",
       "      <td>0</td>\n",
       "      <td>1</td>\n",
       "    </tr>\n",
       "    <tr>\n",
       "      <th>29485</th>\n",
       "      <td>1000000.00</td>\n",
       "      <td>0</td>\n",
       "      <td>0</td>\n",
       "      <td>0</td>\n",
       "      <td>1</td>\n",
       "    </tr>\n",
       "  </tbody>\n",
       "</table>\n",
       "</div>"
      ],
      "text/plain": [
       "       post_money_valuation_usd  series_a  series_b  series_c  seed\n",
       "34829                1000000.00         0         0         0     1\n",
       "32415                5400000.00         0         0         0     1\n",
       "29863                 500000.00         0         0         0     1\n",
       "36436                2500000.00         0         0         0     1\n",
       "29485                1000000.00         0         0         0     1"
      ]
     },
     "execution_count": 64,
     "metadata": {},
     "output_type": "execute_result"
    }
   ],
   "source": [
    "#normal values\n",
    "\n",
    "X_test.head()"
   ]
  },
  {
   "cell_type": "code",
   "execution_count": 78,
   "id": "2b9decc0",
   "metadata": {
    "scrolled": true
   },
   "outputs": [
    {
     "data": {
      "text/plain": [
       "9855114.715286326"
      ]
     },
     "execution_count": 78,
     "metadata": {},
     "output_type": "execute_result"
    }
   ],
   "source": [
    "# lets test the model using the test dataset\n",
    "# and using root mean squared error to evaluate\n",
    "from math import sqrt\n",
    "from sklearn.metrics import mean_squared_error\n",
    "from sklearn.metrics import accuracy_score \n",
    "\n",
    "\n",
    "\n",
    "pred = model1.predict(X_test)\n",
    "rmse = sqrt(mean_squared_error(y_test, pred))\n",
    "rmse"
   ]
  },
  {
   "cell_type": "code",
   "execution_count": 79,
   "id": "7f290714",
   "metadata": {},
   "outputs": [],
   "source": [
    "# Save as pickle file\n",
    "\n",
    "import pickle\n",
    "with open('Fund_prediction.pickle', 'wb') as file:\n",
    "    pickle.dump(model1, file)\n",
    "    "
   ]
  }
 ],
 "metadata": {
  "kernelspec": {
   "display_name": "Python 3 (ipykernel)",
   "language": "python",
   "name": "python3"
  },
  "language_info": {
   "codemirror_mode": {
    "name": "ipython",
    "version": 3
   },
   "file_extension": ".py",
   "mimetype": "text/x-python",
   "name": "python",
   "nbconvert_exporter": "python",
   "pygments_lexer": "ipython3",
   "version": "3.8.12"
  }
 },
 "nbformat": 4,
 "nbformat_minor": 5
}
